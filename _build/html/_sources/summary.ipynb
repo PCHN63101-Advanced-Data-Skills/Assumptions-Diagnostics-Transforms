{
 "cells": [
  {
   "cell_type": "markdown",
   "id": "7c4a964b-a2bc-4d77-b1e8-6928da6b2b73",
   "metadata": {},
   "source": [
    "# Summary\n",
    "... If these methods fail, then there are alternative models we can use. For instance, *robust regression* can be used in the presence of outliers, *ridge regression* when multicollinearity is present, *generalised least-squares* when homoscedasticity is badly violated and *non-parametric resampling* when normality does not appear appropriate. We will see examples of all these as part of the synchronous session associated with this lesson."
   ]
  },
  {
   "cell_type": "code",
   "execution_count": null,
   "id": "cbcacdb5-2a56-43b5-b689-b332371f628f",
   "metadata": {
    "vscode": {
     "languageId": "r"
    }
   },
   "outputs": [],
   "source": []
  }
 ],
 "metadata": {
  "kernelspec": {
   "display_name": "R",
   "language": "R",
   "name": "ir"
  },
  "language_info": {
   "codemirror_mode": "r",
   "file_extension": ".r",
   "mimetype": "text/x-r-source",
   "name": "R",
   "pygments_lexer": "r",
   "version": "4.3.3"
  }
 },
 "nbformat": 4,
 "nbformat_minor": 5
}
