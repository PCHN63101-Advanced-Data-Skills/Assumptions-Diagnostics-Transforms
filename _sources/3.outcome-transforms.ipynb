{
 "cells": [
  {
   "cell_type": "markdown",
   "id": "8a6b3fd6-1753-45e7-a920-fccf68cbdcac",
   "metadata": {},
   "source": [
    "# Transforming the Outcome Variable\n",
    "..."
   ]
  },
  {
   "cell_type": "markdown",
   "id": "1a8ba8d5",
   "metadata": {},
   "source": [
    "## Box-Cox Transformations"
   ]
  },
  {
   "cell_type": "markdown",
   "id": "9c03b3d9",
   "metadata": {},
   "source": []
  }
 ],
 "metadata": {
  "kernelspec": {
   "display_name": "R",
   "language": "R",
   "name": "ir"
  },
  "language_info": {
   "codemirror_mode": "r",
   "file_extension": ".r",
   "mimetype": "text/x-r-source",
   "name": "R",
   "pygments_lexer": "r",
   "version": "4.5.0"
  }
 },
 "nbformat": 4,
 "nbformat_minor": 5
}
