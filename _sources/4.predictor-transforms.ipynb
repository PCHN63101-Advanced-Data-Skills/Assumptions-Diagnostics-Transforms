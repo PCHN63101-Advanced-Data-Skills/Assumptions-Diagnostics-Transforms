{
 "cells": [
  {
   "cell_type": "markdown",
   "id": "8a6b3fd6-1753-45e7-a920-fccf68cbdcac",
   "metadata": {},
   "source": [
    "# Transforming the Predictor Variables\n",
    "..."
   ]
  },
  {
   "cell_type": "markdown",
   "id": "a4a102ed",
   "metadata": {},
   "source": [
    "## Polynomial Regression"
   ]
  },
  {
   "cell_type": "markdown",
   "id": "1ab5e460",
   "metadata": {},
   "source": [
    "## Linearising Relationships"
   ]
  },
  {
   "cell_type": "markdown",
   "id": "8ae47913",
   "metadata": {},
   "source": [
    "## Standardised Regression"
   ]
  },
  {
   "cell_type": "markdown",
   "id": "6abe311e",
   "metadata": {},
   "source": [
    "## Multicollinearity"
   ]
  },
  {
   "cell_type": "markdown",
   "id": "9c03b3d9",
   "metadata": {},
   "source": []
  }
 ],
 "metadata": {
  "kernelspec": {
   "display_name": "R",
   "language": "R",
   "name": "ir"
  },
  "language_info": {
   "codemirror_mode": "r",
   "file_extension": ".r",
   "mimetype": "text/x-r-source",
   "name": "R",
   "pygments_lexer": "r",
   "version": "4.5.0"
  }
 },
 "nbformat": 4,
 "nbformat_minor": 5
}
