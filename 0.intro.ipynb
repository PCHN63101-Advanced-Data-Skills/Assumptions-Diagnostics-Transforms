{
 "cells": [
  {
   "cell_type": "markdown",
   "id": "0aff9971-428c-4632-8dcc-2451ce81b45b",
   "metadata": {
    "tags": []
   },
   "source": [
    "# Introduction\n",
    "At this point in the unit, we have examined linear regression as a core example of a statistical model within the framework we established back in the [Principles of Statistical Modelling](https://pchn63101-advanced-data-skills.github.io/Principles-Stat-Modelling/0.intro.html) lesson. Last week, we took a detour into the world of statistical inference. Despite our reservations around the process of NHST, it is important to divorce NHST from the regression model itself. These are not the same thing and you can happily use one without the other. So, irrespective of your current opinion on statistical inference, multiple regression remains a cornerstone of statistical modelling. However, despite all the progress we have made, we have not paused to consider whether our regression model is actually any good. This is the focus of this lesson. In order for the regression model to be tractable and useable, we have had to make several assumptions along the way. Now comes the time where we actually check those assumptions to see whether they appear reasonable. Furthermore, if they do *not* seem reasonable, we need to consider what we can do about it. Ultimately, whether we choose to use NHST or some other means of inference, it is all *meaningless* if we have a bad model that does not fit the data.\n",
    "\n",
    "## Contents\n",
    "\n",
    "```{tableofcontents}\n",
    "```\n",
    "\n",
    "## About the Authors\n",
    "</br>\n",
    "\n",
    "```{figure} images/martyn.jpeg\n",
    "---\n",
    "scale: 15%\n",
    "align: left\n",
    "---\n",
    "```\n",
    "\n",
    "**Dr Martyn McFarquhar | PhD FHEA**\n",
    "\n",
    "Lecturer in Neuroimaging\n",
    "\n",
    "4.33 Booth Street East | Division of Psychology, Communication and Human Neuroscience | School of Health Sciences | The University of Manchester M13 9PL\n",
    "\n",
    "t: +44 (0)161 275 2688 | e: [martyn.mcfarquhar@manchester.ac.uk](mailto:martyn.mcfarquhar@manchester.ac.uk)\n",
    "</br>\n",
    "</br>\n",
    "</br>\n",
    "</br>\n",
    "\n",
    "```{figure} images/george.jpg\n",
    "---\n",
    "scale: 80%\n",
    "align: right\n",
    "---\n",
    "```\n",
    "\n",
    "**Dr George Farmer | PhD**\n",
    "\n",
    "Lecturer \n",
    "\n",
    "... Dover Street Building | Division of Psychology, Communication and Human Neuroscience | School of Health Sciences | The University of Manchester M13 9PL\n",
    "\n",
    "t: +44 (0)161 275 ... | e: [george.farmer@manchester.ac.uk](mailto:george.farmer@manchester.ac.uk)"
   ]
  },
  {
   "cell_type": "markdown",
   "id": "31eba766",
   "metadata": {},
   "source": []
  }
 ],
 "metadata": {
  "kernelspec": {
   "display_name": "R",
   "language": "R",
   "name": "ir"
  },
  "language_info": {
   "codemirror_mode": "r",
   "file_extension": ".r",
   "mimetype": "text/x-r-source",
   "name": "R",
   "pygments_lexer": "r",
   "version": "4.3.3"
  }
 },
 "nbformat": 4,
 "nbformat_minor": 5
}
