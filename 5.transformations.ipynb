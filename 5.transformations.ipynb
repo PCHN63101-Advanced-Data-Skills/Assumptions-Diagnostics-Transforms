{
 "cells": [
  {
   "cell_type": "markdown",
   "id": "8a6b3fd6-1753-45e7-a920-fccf68cbdcac",
   "metadata": {},
   "source": [
    "# Transformations\n",
    "..."
   ]
  },
  {
   "cell_type": "markdown",
   "id": "281854ac",
   "metadata": {},
   "source": [
    "## Transforming the Outcome\n",
    "Typically, transforming the outcome concerns the distributional assumptions of the linear model, in the sense that a transformation applied to the outcome will be carried into a transformation of the residuals. Transformation of the outcome can also work to linearise any non-linear relationships with the predictor variables and can sometimes improve interpretation of the model."
   ]
  },
  {
   "cell_type": "markdown",
   "id": "72fa7d64",
   "metadata": {},
   "source": [
    "### Box-Cox Transformations"
   ]
  },
  {
   "cell_type": "markdown",
   "id": "085c93de",
   "metadata": {},
   "source": [
    "### Linearising Relationships"
   ]
  },
  {
   "cell_type": "markdown",
   "id": "a4a102ed",
   "metadata": {},
   "source": [
    "## Transforming the Predictors\n",
    "Typically, the reasons for transforming the predictors come down to trying to adjust for multicollinearity or trying to adjust for non-linear relationships."
   ]
  },
  {
   "cell_type": "markdown",
   "id": "2d6e1a38",
   "metadata": {},
   "source": [
    "### Polynomial Regression\n",
    "A polynomial expansion of a predictor is a form of transformation..."
   ]
  },
  {
   "cell_type": "markdown",
   "id": "1431501b",
   "metadata": {},
   "source": [
    "### Multicollinearity"
   ]
  },
  {
   "cell_type": "markdown",
   "id": "1ab5e460",
   "metadata": {},
   "source": [
    "### Linearising Relationships"
   ]
  },
  {
   "cell_type": "markdown",
   "id": "8ae47913",
   "metadata": {},
   "source": [
    "## Standardised Regression"
   ]
  },
  {
   "cell_type": "markdown",
   "id": "86224a55",
   "metadata": {},
   "source": [
    "## What if Nothing Works?\n",
    "These include models for outliers (*robust regression*), heteroscedasticity (*generalised least squares*), multicollinearity (*ridge regression*) and non-normality (*non-parametric resampling*)."
   ]
  },
  {
   "cell_type": "markdown",
   "id": "9c03b3d9",
   "metadata": {},
   "source": []
  }
 ],
 "metadata": {
  "kernelspec": {
   "display_name": "R",
   "language": "R",
   "name": "ir"
  },
  "language_info": {
   "codemirror_mode": "r",
   "file_extension": ".r",
   "mimetype": "text/x-r-source",
   "name": "R",
   "pygments_lexer": "r",
   "version": "4.5.0"
  }
 },
 "nbformat": 4,
 "nbformat_minor": 5
}
