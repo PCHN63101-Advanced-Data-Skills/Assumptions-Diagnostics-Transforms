{
 "cells": [
  {
   "cell_type": "markdown",
   "id": "7c4a964b-a2bc-4d77-b1e8-6928da6b2b73",
   "metadata": {},
   "source": [
    "# Summary\n",
    "In this lesson we have explored the very important, though often ignored, topic of model assumptions. Hopefully by this point, you understand why these assumptions are so important. At the end of the day, all a regression model gives you is some numbers. In order for those numbers to be useful, meaningful and interpretable, certain assumptions must be made and must be met by the data in question. Without checking, we risk having models that are utterly meaningless. However, it is also worth having the right *perspective* on assumptions. Statistical models are idealisation of reality in the name of mathematical simplicity and tractability. As such, we do not expect assumptions to be met *perfectly*, we just hope that they are *close enough* that the model results remain useful. Nevertheless, they need checking. We must also check for data features that may be biasing the model and the resultant inference. In cases where assumptions may be violated, we can consider transformations. Yet, these come with there own issues and will not always be successful. Often, if all the attempts do not seem to be helping, you may need to start questioning whether multiple regression is the correct framework for your data analysis."
   ]
  },
  {
   "cell_type": "code",
   "execution_count": null,
   "id": "cbcacdb5-2a56-43b5-b689-b332371f628f",
   "metadata": {
    "vscode": {
     "languageId": "r"
    }
   },
   "outputs": [],
   "source": []
  }
 ],
 "metadata": {
  "kernelspec": {
   "display_name": "R",
   "language": "R",
   "name": "ir"
  },
  "language_info": {
   "codemirror_mode": "r",
   "file_extension": ".r",
   "mimetype": "text/x-r-source",
   "name": "R",
   "pygments_lexer": "r",
   "version": "4.3.3"
  }
 },
 "nbformat": 4,
 "nbformat_minor": 5
}
