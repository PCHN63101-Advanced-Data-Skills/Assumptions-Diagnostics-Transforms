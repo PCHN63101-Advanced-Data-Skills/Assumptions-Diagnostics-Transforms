{
 "cells": [
  {
   "cell_type": "markdown",
   "id": "8a6b3fd6-1753-45e7-a920-fccf68cbdcac",
   "metadata": {},
   "source": [
    "# Transforming the Outcome Variable\n",
    "..."
   ]
  },
  {
   "cell_type": "markdown",
   "id": "1a8ba8d5",
   "metadata": {},
   "source": [
    "## Box-Cox Transformations"
   ]
  },
  {
   "cell_type": "markdown",
   "id": "c4490ae7",
   "metadata": {},
   "source": [
    "## Other Approaches for Non-normality"
   ]
  },
  {
   "cell_type": "code",
   "execution_count": 4,
   "id": "58db2fd5",
   "metadata": {
    "vscode": {
     "languageId": "r"
    }
   },
   "outputs": [
    {
     "data": {
      "text/plain": [
       "\n",
       "Call:\n",
       "lm(formula = mpg ~ wt + hp, data = mtcars)\n",
       "\n",
       "Residuals:\n",
       "   Min     1Q Median     3Q    Max \n",
       "-3.941 -1.600 -0.182  1.050  5.854 \n",
       "\n",
       "Coefficients:\n",
       "            Estimate Std. Error t value Pr(>|t|)    \n",
       "(Intercept) 37.22727    1.59879  23.285  < 2e-16 ***\n",
       "wt          -3.87783    0.63273  -6.129 1.12e-06 ***\n",
       "hp          -0.03177    0.00903  -3.519  0.00145 ** \n",
       "---\n",
       "Signif. codes:  0 ‘***’ 0.001 ‘**’ 0.01 ‘*’ 0.05 ‘.’ 0.1 ‘ ’ 1\n",
       "\n",
       "Residual standard error: 2.593 on 29 degrees of freedom\n",
       "Multiple R-squared:  0.8268,\tAdjusted R-squared:  0.8148 \n",
       "F-statistic: 69.21 on 2 and 29 DF,  p-value: 9.109e-12\n"
      ]
     },
     "metadata": {},
     "output_type": "display_data"
    },
    {
     "name": "stdout",
     "output_type": "stream",
     "text": [
      "[1] \"Settings:  unique SS : numeric variables centered\"\n"
     ]
    },
    {
     "data": {
      "text/plain": [
       "\n",
       "Call:\n",
       "lmp(formula = mpg ~ wt + hp, data = mtcars, perm = \"EXACT\")\n",
       "\n",
       "Residuals:\n",
       "   Min     1Q Median     3Q    Max \n",
       "-3.941 -1.600 -0.182  1.050  5.854 \n",
       "\n",
       "Coefficients:\n",
       "   Estimate Std. Error t value Pr(>|t|)    \n",
       "wt -3.87783    0.63273  -6.129 1.12e-06 ***\n",
       "hp -0.03177    0.00903  -3.519  0.00145 ** \n",
       "---\n",
       "Signif. codes:  0 ‘***’ 0.001 ‘**’ 0.01 ‘*’ 0.05 ‘.’ 0.1 ‘ ’ 1\n",
       "\n",
       "Residual standard error: 2.593 on 29 degrees of freedom\n",
       "Multiple R-Squared: 0.8268,\tAdjusted R-squared: 0.8148 \n",
       "F-statistic: 69.21 on 2 and 29 DF,  p-value: 9.109e-12 \n"
      ]
     },
     "metadata": {},
     "output_type": "display_data"
    }
   ],
   "source": [
    "library(lmPerm)\n",
    "data(mtcars)\n",
    "\n",
    "mod.lm <- lm(mpg ~ wt + hp, data=mtcars)\n",
    "summary(mod.lm)\n",
    "\n",
    "mod.perm <- lmp(mpg ~ wt + hp, data=mtcars, perm=\"EXACT\")\n",
    "summary(mod.perm)"
   ]
  },
  {
   "cell_type": "markdown",
   "id": "13df1680",
   "metadata": {},
   "source": [
    "## Outliers in Outcome Space"
   ]
  },
  {
   "cell_type": "markdown",
   "id": "5097acea",
   "metadata": {},
   "source": [
    "### Leverage"
   ]
  },
  {
   "cell_type": "markdown",
   "id": "9c03b3d9",
   "metadata": {},
   "source": []
  }
 ],
 "metadata": {
  "kernelspec": {
   "display_name": "R",
   "language": "R",
   "name": "ir"
  },
  "language_info": {
   "codemirror_mode": "r",
   "file_extension": ".r",
   "mimetype": "text/x-r-source",
   "name": "R",
   "pygments_lexer": "r",
   "version": "4.5.0"
  }
 },
 "nbformat": 4,
 "nbformat_minor": 5
}
